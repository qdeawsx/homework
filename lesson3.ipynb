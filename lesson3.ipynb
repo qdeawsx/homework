{
 "cells": [
  {
   "attachments": {},
   "cell_type": "markdown",
   "metadata": {},
   "source": [
    "## print函数实现"
   ]
  },
  {
   "cell_type": "code",
   "execution_count": null,
   "metadata": {},
   "outputs": [],
   "source": [
    "def my_print(*cons,sep=' ',end='\\n'):\n",
    "    content=''\n",
    "    for s in cons:\n",
    "        content+= str(s) + sep\n",
    "    content = content[:-1] + end\n",
    "    return content\n",
    "a = my_print('aaa','bbb',sep='*',end='+')\n",
    "print(a)\n",
    "print('aaa','bbb',sep='##',end=\".\")"
   ]
  },
  {
   "cell_type": "markdown",
   "metadata": {},
   "source": [
    "## Fibonacci\n",
    "F(1)=1，F(2)=1, F(n)=F(n-1)+F(n-2)（n>=3，n∈N*）"
   ]
  },
  {
   "cell_type": "code",
   "execution_count": 36,
   "metadata": {},
   "outputs": [
    {
     "data": {
      "text/plain": [
       "12586269025"
      ]
     },
     "execution_count": 36,
     "metadata": {},
     "output_type": "execute_result"
    }
   ],
   "source": [
    "fib_dic = {}\n",
    "def fib(n):\n",
    "    if(n in fib_dic):\n",
    "        return fib_dic[n]\n",
    "    if n==1 or n==2:\n",
    "        return 1  \n",
    "    sub_fib = fib(n-1)+fib(n-2)\n",
    "    fib_dic[n] = sub_fib\n",
    "    return sub_fib\n",
    "fib(50)"
   ]
  },
  {
   "cell_type": "code",
   "execution_count": 35,
   "metadata": {},
   "outputs": [
    {
     "data": {
      "text/plain": [
       "832040"
      ]
     },
     "execution_count": 35,
     "metadata": {},
     "output_type": "execute_result"
    }
   ],
   "source": [
    "def fib(n):\n",
    "    if n==1 or n==2:\n",
    "        return 1  \n",
    "    return fib(n-1)+fib(n-2)\n",
    "fib(30)"
   ]
  },
  {
   "cell_type": "code",
   "execution_count": null,
   "metadata": {},
   "outputs": [],
   "source": []
  }
 ],
 "metadata": {
  "kernelspec": {
   "display_name": "Python 3",
   "language": "python",
   "name": "python3"
  },
  "language_info": {
   "codemirror_mode": {
    "name": "ipython",
    "version": 3
   },
   "file_extension": ".py",
   "mimetype": "text/x-python",
   "name": "python",
   "nbconvert_exporter": "python",
   "pygments_lexer": "ipython3",
   "version": "3.7.3"
  }
 },
 "nbformat": 4,
 "nbformat_minor": 2
}
