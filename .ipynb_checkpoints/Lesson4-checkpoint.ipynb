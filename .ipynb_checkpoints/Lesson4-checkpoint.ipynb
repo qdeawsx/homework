{
 "cells": [
  {
   "cell_type": "markdown",
   "metadata": {
    "toc-hr-collapsed": true
   },
   "source": [
    "# 上周作业"
   ]
  },
  {
   "cell_type": "markdown",
   "metadata": {},
   "source": [
    "## 1. 实现`print`函数\n",
    "定义一个函数`print_string`，返回一个字符串。  \n",
    "`print_string`函数支持输入多个参数，每个参数间使用参数`sep`(默认一个空格)的字符进行连接，并且最后还要添加一个`end`(默认一个换行)参数的字符。  \n",
    "比如\n",
    "- `print_string('This is a test')` 返回`This is a test\\n`  \n",
    "- `print_string('This', 'is', 'a', 'test')` 返回`This is a test\\n`\n",
    "- `print_string('This', 'is', 'a', 'test', sep = '-')` 返回`This-is-a-test\\n`\n",
    "- `print_string('This', 'is', 'a', 'test', ',', 'Yes', sep = '_', end = '.')` 返回`This_is_a_test_,_Yes.`"
   ]
  },
  {
   "cell_type": "code",
   "execution_count": 26,
   "metadata": {},
   "outputs": [
    {
     "name": "stdout",
     "output_type": "stream",
     "text": [
      "This_is_a_test_,_Yes.\n"
     ]
    },
    {
     "data": {
      "text/plain": [
       "('This_is_a_test_,_Yes.', None)"
      ]
     },
     "execution_count": 26,
     "metadata": {},
     "output_type": "execute_result"
    }
   ],
   "source": [
    "def print_string(*values, sep = ' ', end = '\\n'):\n",
    "    string = ''\n",
    "    for value in values:\n",
    "        string += str(value)\n",
    "        string += sep\n",
    "    string = string[:-1] + end\n",
    "    return string\n",
    "\n",
    "l = list('abcd')\n",
    "# 测试\n",
    "s = print_string('This', 'is', 'a', 'test', ',', 'Yes', sep = '_', end = '.')\n",
    "s,print(s)"
   ]
  },
  {
   "cell_type": "markdown",
   "metadata": {},
   "source": [
    "## 2. 打印斐波那契数列\n",
    "以三种方式打印波那契数列    \n",
    "给定一个数值n，将前n项的波那契数列打印出来"
   ]
  },
  {
   "cell_type": "code",
   "execution_count": 2,
   "metadata": {},
   "outputs": [
    {
     "name": "stdout",
     "output_type": "stream",
     "text": [
      "1 1 2 3 5 8 13 21 34 55 89 144 233 377 610 987 1597 2584 4181 6765 "
     ]
    }
   ],
   "source": [
    "def fib_loop(n):\n",
    "    a, b = 0, 1\n",
    "    for i in range(n + 1):\n",
    "        a, b = b, a + b\n",
    "    return a\n",
    "\n",
    "if __name__ == '__main__':\n",
    "    for i in range(20):\n",
    "        print(fib_loop(i), end=' ')"
   ]
  },
  {
   "cell_type": "markdown",
   "metadata": {},
   "source": [
    "# 模块"
   ]
  },
  {
   "cell_type": "markdown",
   "metadata": {},
   "source": [
    "[参考](https://chrisyeh96.github.io/2017/08/08/definitive-guide-python-imports.html)  \n",
    "**请使用pycharm 社区版(免费)，专业版(收费)**  \n",
    "pycharm学生/教师版每年都需要上传Licience  \n",
    "可以使用VSCODE"
   ]
  },
  {
   "cell_type": "markdown",
   "metadata": {},
   "source": [
    "**注意**  \n",
    "在pycharm 中新建项目后，请右键项目->Mark Direction as -> Source ROOT"
   ]
  },
  {
   "cell_type": "markdown",
   "metadata": {},
   "source": [
    "基本定义：\n",
    "- **module**: 任何后缀为`*.py`文件. 模块名称就是文件名称.\n",
    "- **built-in module**: python编译器内置的函数，没有对应的`.py`文件.\n",
    "- **package**: python3.3以上，任何文件夹都可以视为包.\n",
    "- **object**: python中基本所有的东西都为对象: 函数，类，变量等。"
   ]
  },
  {
   "cell_type": "markdown",
   "metadata": {},
   "source": [
    "``` \n",
    "project/                   # 项目根路径\n",
    "    packA/                 # 包A\n",
    "        subA/              # 子包subA\n",
    "            __init__.py\n",
    "            sa1.py\n",
    "            sa2.py\n",
    "        __init__.py\n",
    "        a1.py\n",
    "        a2.py\n",
    "    packB/                 # 包B (隐式，无__init__.py)\n",
    "        b1.py\n",
    "        b2.py\n",
    "    math.py\n",
    "    random.py\n",
    "    other.py\n",
    "    start.py\n",
    "    # 根路径下不需要 __init__文件\n",
    "```"
   ]
  },
  {
   "cell_type": "markdown",
   "metadata": {},
   "source": [
    "import 语法的四种情况:\n",
    "- `import <package>`\n",
    "- `import <module>`\n",
    "- `from <package> import <module or subpackage or object>`  # 变量 函数\n",
    "- `from <module> import <object>`"
   ]
  },
  {
   "cell_type": "markdown",
   "metadata": {},
   "source": [
    "假如用`x`表示`import`后的名字  \n",
    "- `x`是包或模块的名字，想要用对象需要`x.object`\n",
    "- `x`是变量，直接使用就行\n",
    "- `x`是函数名字，调用需要`x()`\n",
    "\n",
    "\n",
    "`as Y` Y就是别名，直接使用即可"
   ]
  },
  {
   "cell_type": "markdown",
   "metadata": {},
   "source": [
    "**很符合直觉，理解就能记住了，不要死记硬背**"
   ]
  },
  {
   "cell_type": "markdown",
   "metadata": {},
   "source": [
    "# 标准库"
   ]
  },
  {
   "cell_type": "markdown",
   "metadata": {},
   "source": [
    "[Python 标准库](https://docs.python.org/zh-cn/3.6/library/index.html)"
   ]
  },
  {
   "cell_type": "markdown",
   "metadata": {},
   "source": [
    "## 内置函数"
   ]
  },
  {
   "cell_type": "markdown",
   "metadata": {},
   "source": [
    "[内置函数](https://docs.python.org/zh-cn/3.6/library/functions.html)"
   ]
  },
  {
   "cell_type": "markdown",
   "metadata": {},
   "source": [
    "- abs() 绝对值\n",
    "- min() \n",
    "- dir()\n",
    "- sorted()\n",
    "- ascii()\n",
    "- input()\n",
    "- ord() chr()\n",
    "- sum()\n",
    "- print()\n",
    "- type()\n",
    "- max()\n",
    "- round()\n",
    "- id() 判断两个对象是否相同 \n",
    "- hash() 判断两个对象的值\n",
    "- eval() repr()"
   ]
  },
  {
   "cell_type": "code",
   "execution_count": 29,
   "metadata": {},
   "outputs": [
    {
     "name": "stdout",
     "output_type": "stream",
     "text": [
      "['张三', '李四', '王五'] <class 'list'>\n"
     ]
    }
   ],
   "source": [
    "class_mate = ['张三', '李四', '王五']\n",
    "repr(class_mate)\n",
    "\n",
    "\n",
    "string = \"['张三', '李四', '王五']\"\n",
    "recover_class_mate = eval(string)\n",
    "print(recover_class_mate, type(recover_class_mate))"
   ]
  },
  {
   "cell_type": "markdown",
   "metadata": {},
   "source": [
    "## 常用包/模块"
   ]
  },
  {
   "cell_type": "markdown",
   "metadata": {},
   "source": [
    "[datetime_官方文档](https://docs.python.org/zh-cn/3.6/library/datetime.html)  \n",
    "[最常用datetime.datetime](https://docs.python.org/zh-cn/3.6/library/datetime.html#datetime.datetime)"
   ]
  },
  {
   "cell_type": "code",
   "execution_count": null,
   "metadata": {},
   "outputs": [],
   "source": [
    "# 简单实用\n",
    "# 范围在 1970 - 2038 \n",
    "import time\n",
    "#  datetime 基于 time 进行了封装，提供了更多实用的函数。\n",
    "import datetime"
   ]
  },
  {
   "cell_type": "markdown",
   "metadata": {},
   "source": [
    "```\n",
    "object  \n",
    "    timedelta     # 主要用于计算时间跨度\n",
    "    tzinfo        # 时区相关\n",
    "    time          # 只关注时间\n",
    "    date          # 只关注日期\n",
    "    datetime      # 同时有时间和日期\n",
    "```"
   ]
  },
  {
   "cell_type": "code",
   "execution_count": 57,
   "metadata": {},
   "outputs": [
    {
     "name": "stdout",
     "output_type": "stream",
     "text": [
      "0\n",
      "1\n",
      "2\n",
      "3\n",
      "4\n"
     ]
    }
   ],
   "source": [
    "# 休眠1s\n",
    "import time\n",
    "for i in range(5):\n",
    "    print(i)\n",
    "    time.sleep(1)"
   ]
  },
  {
   "cell_type": "code",
   "execution_count": 62,
   "metadata": {},
   "outputs": [
    {
     "name": "stdout",
     "output_type": "stream",
     "text": [
      "for循环消耗的时间是：0.40625\n",
      "列表解析消耗的时间是：0.203125\n"
     ]
    }
   ],
   "source": [
    "# 对比for循环和列表解析的效率\n",
    "import time\n",
    "array = []\n",
    "\n",
    "start = time.clock() # 当前时间\n",
    "for i in range(2000000):\n",
    "    array.append(i)\n",
    "end = time.clock()\n",
    "print(f'for循环消耗的时间是：{end-start}')\n",
    "\n",
    "start = time.clock() # 当前时间\n",
    "[i for i in range(2000000)]\n",
    "end = time.clock()\n",
    "print(f'列表解析消耗的时间是：{end-start}')"
   ]
  },
  {
   "cell_type": "code",
   "execution_count": 30,
   "metadata": {},
   "outputs": [
    {
     "name": "stdout",
     "output_type": "stream",
     "text": [
      "['MAXYEAR', 'MINYEAR', '__builtins__', '__cached__', '__doc__', '__file__', '__loader__', '__name__', '__package__', '__spec__', 'date', 'datetime', 'datetime_CAPI', 'sys', 'time', 'timedelta', 'timezone', 'tzinfo']\n"
     ]
    }
   ],
   "source": [
    "import datetime\n",
    "print(dir(datetime))"
   ]
  },
  {
   "cell_type": "code",
   "execution_count": 31,
   "metadata": {},
   "outputs": [
    {
     "name": "stdout",
     "output_type": "stream",
     "text": [
      "['__add__', '__class__', '__delattr__', '__dir__', '__doc__', '__eq__', '__format__', '__ge__', '__getattribute__', '__gt__', '__hash__', '__init__', '__init_subclass__', '__le__', '__lt__', '__ne__', '__new__', '__radd__', '__reduce__', '__reduce_ex__', '__repr__', '__rsub__', '__setattr__', '__sizeof__', '__str__', '__sub__', '__subclasshook__', 'astimezone', 'combine', 'ctime', 'date', 'day', 'dst', 'fold', 'fromordinal', 'fromtimestamp', 'hour', 'isocalendar', 'isoformat', 'isoweekday', 'max', 'microsecond', 'min', 'minute', 'month', 'now', 'replace', 'resolution', 'second', 'strftime', 'strptime', 'time', 'timestamp', 'timetuple', 'timetz', 'today', 'toordinal', 'tzinfo', 'tzname', 'utcfromtimestamp', 'utcnow', 'utcoffset', 'utctimetuple', 'weekday', 'year']\n"
     ]
    }
   ],
   "source": [
    "print(dir(datetime.datetime))"
   ]
  },
  {
   "cell_type": "code",
   "execution_count": 64,
   "metadata": {},
   "outputs": [
    {
     "data": {
      "text/plain": [
       "datetime.datetime(2019, 10, 25, 21, 44, 59, 349419)"
      ]
     },
     "execution_count": 64,
     "metadata": {},
     "output_type": "execute_result"
    }
   ],
   "source": [
    "from datetime import datetime as d\n",
    "d.now()"
   ]
  },
  {
   "cell_type": "code",
   "execution_count": 34,
   "metadata": {},
   "outputs": [
    {
     "data": {
      "text/plain": [
       "datetime.datetime(2019, 10, 21, 11, 32, 46, 705598)"
      ]
     },
     "execution_count": 34,
     "metadata": {},
     "output_type": "execute_result"
    }
   ],
   "source": [
    "print(datetime.datetime.now())"
   ]
  },
  {
   "cell_type": "markdown",
   "metadata": {},
   "source": [
    "``` python\n",
    "datetime.year\n",
    "datetime.month\n",
    "datetime.day\n",
    "datetime.hour\n",
    "datetime.minute\n",
    "datetime.second\n",
    "datetime.microsecond\n",
    "datetime.tzinfo\n",
    "\n",
    "datetime.date() # 返回 date 对象\n",
    "datetime.time() # 返回 time 对象\n",
    "datetime.replace(name=value) # 前面所述各项属性是 read-only 的，需要此方法才可更改\n",
    "datetime.timetuple() # 返回time.struct_time 对象\n",
    "dattime.strftime(format) # 按照 format 进行格式化输出\n",
    "```"
   ]
  },
  {
   "cell_type": "markdown",
   "metadata": {},
   "source": [
    "[OS模块](https://docs.python.org/zh-cn/3.6/library/os.html)  \n",
    "关键字：OS常用操作"
   ]
  },
  {
   "cell_type": "code",
   "execution_count": 65,
   "metadata": {},
   "outputs": [
    {
     "data": {
      "text/plain": [
       "'/home/nocater/deeplearning.ai/学习笔记/kkb/ai_basic'"
      ]
     },
     "execution_count": 65,
     "metadata": {},
     "output_type": "execute_result"
    }
   ],
   "source": [
    "import os\n",
    "\n",
    "# 当前路径\n",
    "os.getcwd()"
   ]
  },
  {
   "cell_type": "code",
   "execution_count": null,
   "metadata": {},
   "outputs": [],
   "source": [
    "相对路径的表示:\n",
    "    '.'  : 当前路径\n",
    "    '../': 父路径\n",
    "绝对路径:\n",
    "    从盘符开始写\n",
    "    `D:\\Dataset`"
   ]
  },
  {
   "cell_type": "code",
   "execution_count": 68,
   "metadata": {},
   "outputs": [
    {
     "data": {
      "text/plain": [
       "['.ipynb_checkpoints',\n",
       " 'Lesson1.ipynb',\n",
       " 'Lesson2.ipynb',\n",
       " 'Lesson3.ipynb',\n",
       " 'Lesson3_Assignment.ipynb.ipynb',\n",
       " 'Lesson4.ipynb',\n",
       " 'Lesson4_Assignment.ipynb',\n",
       " 'Lesson5.ipynb',\n",
       " 'Untitled.ipynb',\n",
       " 'notebook.tex']"
      ]
     },
     "execution_count": 68,
     "metadata": {},
     "output_type": "execute_result"
    }
   ],
   "source": [
    "# 打印当前路径下的文件\n",
    "os.listdir('.')"
   ]
  },
  {
   "cell_type": "code",
   "execution_count": 71,
   "metadata": {},
   "outputs": [
    {
     "data": {
      "text/plain": [
       "['.ipynb_checkpoints',\n",
       " 'Lesson1.ipynb',\n",
       " 'Lesson2.ipynb',\n",
       " 'Lesson3.ipynb',\n",
       " 'Lesson3_Assignment.ipynb.ipynb',\n",
       " 'Lesson4.ipynb',\n",
       " 'Lesson4_Assignment.ipynb',\n",
       " 'Lesson5.ipynb',\n",
       " 'Untitled.ipynb',\n",
       " 'new_folder',\n",
       " 'notebook.tex']"
      ]
     },
     "execution_count": 71,
     "metadata": {},
     "output_type": "execute_result"
    }
   ],
   "source": [
    "# 创建文件夹\n",
    "os.mkdir('./new_folder')\n",
    "os.listdir('.')"
   ]
  },
  {
   "cell_type": "code",
   "execution_count": 72,
   "metadata": {},
   "outputs": [
    {
     "data": {
      "text/plain": [
       "['.ipynb_checkpoints',\n",
       " 'Lesson1.ipynb',\n",
       " 'Lesson2.ipynb',\n",
       " 'Lesson3.ipynb',\n",
       " 'Lesson3_Assignment.ipynb.ipynb',\n",
       " 'Lesson4.ipynb',\n",
       " 'Lesson4_Assignment.ipynb',\n",
       " 'Lesson5.ipynb',\n",
       " 'Untitled.ipynb',\n",
       " 'notebook.tex']"
      ]
     },
     "execution_count": 72,
     "metadata": {},
     "output_type": "execute_result"
    }
   ],
   "source": [
    "os.rmdir('./new_folder')\n",
    "os.listdir('.')"
   ]
  },
  {
   "cell_type": "code",
   "execution_count": 73,
   "metadata": {},
   "outputs": [
    {
     "data": {
      "text/plain": [
       "False"
      ]
     },
     "execution_count": 73,
     "metadata": {},
     "output_type": "execute_result"
    }
   ],
   "source": [
    "os.path.isdir('Lesson1.ipynb')"
   ]
  },
  {
   "cell_type": "code",
   "execution_count": 74,
   "metadata": {},
   "outputs": [
    {
     "data": {
      "text/plain": [
       "True"
      ]
     },
     "execution_count": 74,
     "metadata": {},
     "output_type": "execute_result"
    }
   ],
   "source": [
    "os.path.isdir('.')"
   ]
  },
  {
   "cell_type": "code",
   "execution_count": 75,
   "metadata": {},
   "outputs": [
    {
     "data": {
      "text/plain": [
       "(False, True)"
      ]
     },
     "execution_count": 75,
     "metadata": {},
     "output_type": "execute_result"
    }
   ],
   "source": [
    "os.path.exists('D://dateset'), os.path.exists('/home/nocater')"
   ]
  },
  {
   "cell_type": "code",
   "execution_count": 76,
   "metadata": {},
   "outputs": [
    {
     "data": {
      "text/plain": [
       "('64bit', '')"
      ]
     },
     "execution_count": 76,
     "metadata": {},
     "output_type": "execute_result"
    }
   ],
   "source": [
    "import platform\n",
    "platform.architecture()"
   ]
  },
  {
   "cell_type": "code",
   "execution_count": 77,
   "metadata": {},
   "outputs": [
    {
     "data": {
      "text/plain": [
       "'folder/file.txt'"
      ]
     },
     "execution_count": 77,
     "metadata": {},
     "output_type": "execute_result"
    }
   ],
   "source": [
    "os.path.join('folder','file.txt')\n",
    "# win下结果为\n",
    "# folder\\\\file.txt"
   ]
  },
  {
   "cell_type": "markdown",
   "metadata": {},
   "source": [
    "random模块"
   ]
  },
  {
   "cell_type": "code",
   "execution_count": 78,
   "metadata": {},
   "outputs": [
    {
     "data": {
      "text/plain": [
       "['BPF',\n",
       " 'LOG4',\n",
       " 'NV_MAGICCONST',\n",
       " 'RECIP_BPF',\n",
       " 'Random',\n",
       " 'SG_MAGICCONST',\n",
       " 'SystemRandom',\n",
       " 'TWOPI',\n",
       " '_BuiltinMethodType',\n",
       " '_MethodType',\n",
       " '_Sequence',\n",
       " '_Set',\n",
       " '__all__',\n",
       " '__builtins__',\n",
       " '__cached__',\n",
       " '__doc__',\n",
       " '__file__',\n",
       " '__loader__',\n",
       " '__name__',\n",
       " '__package__',\n",
       " '__spec__',\n",
       " '_acos',\n",
       " '_bisect',\n",
       " '_ceil',\n",
       " '_cos',\n",
       " '_e',\n",
       " '_exp',\n",
       " '_inst',\n",
       " '_itertools',\n",
       " '_log',\n",
       " '_pi',\n",
       " '_random',\n",
       " '_sha512',\n",
       " '_sin',\n",
       " '_sqrt',\n",
       " '_test',\n",
       " '_test_generator',\n",
       " '_urandom',\n",
       " '_warn',\n",
       " 'betavariate',\n",
       " 'choice',\n",
       " 'choices',\n",
       " 'expovariate',\n",
       " 'gammavariate',\n",
       " 'gauss',\n",
       " 'getrandbits',\n",
       " 'getstate',\n",
       " 'lognormvariate',\n",
       " 'normalvariate',\n",
       " 'paretovariate',\n",
       " 'randint',\n",
       " 'random',\n",
       " 'randrange',\n",
       " 'sample',\n",
       " 'seed',\n",
       " 'setstate',\n",
       " 'shuffle',\n",
       " 'triangular',\n",
       " 'uniform',\n",
       " 'vonmisesvariate',\n",
       " 'weibullvariate']"
      ]
     },
     "execution_count": 78,
     "metadata": {},
     "output_type": "execute_result"
    }
   ],
   "source": [
    "import random\n",
    "dir(random)"
   ]
  },
  {
   "cell_type": "code",
   "execution_count": 80,
   "metadata": {},
   "outputs": [],
   "source": [
    "from random import *"
   ]
  },
  {
   "cell_type": "code",
   "execution_count": 87,
   "metadata": {},
   "outputs": [
    {
     "data": {
      "text/plain": [
       "0.6081935757273089"
      ]
     },
     "execution_count": 87,
     "metadata": {},
     "output_type": "execute_result"
    }
   ],
   "source": [
    "random()"
   ]
  },
  {
   "cell_type": "code",
   "execution_count": 94,
   "metadata": {},
   "outputs": [
    {
     "data": {
      "text/plain": [
       "2"
      ]
     },
     "execution_count": 94,
     "metadata": {},
     "output_type": "execute_result"
    }
   ],
   "source": [
    "# 随机整数\n",
    "randint(0, 10)"
   ]
  },
  {
   "cell_type": "code",
   "execution_count": 100,
   "metadata": {},
   "outputs": [
    {
     "name": "stdout",
     "output_type": "stream",
     "text": [
      "一等奖\n"
     ]
    }
   ],
   "source": [
    "# 随机抽取\n",
    "reward = ['一等奖', '二等奖', '三等奖', '成功参与奖']\n",
    "\n",
    "print(choice(reward))"
   ]
  },
  {
   "cell_type": "code",
   "execution_count": 133,
   "metadata": {},
   "outputs": [
    {
     "name": "stdout",
     "output_type": "stream",
     "text": [
      "['成功参与奖', '成功参与奖', '成功参与奖', '成功参与奖', '一等奖', '成功参与奖', '一等奖', '成功参与奖', '成功参与奖', '三等奖']\n"
     ]
    }
   ],
   "source": [
    "print(choices(reward, [0.1,0.2,0.3,0.4], k=10))"
   ]
  },
  {
   "cell_type": "markdown",
   "metadata": {},
   "source": [
    "**模拟微信发红包**  \n",
    "细致去看会发现不太合理"
   ]
  },
  {
   "cell_type": "code",
   "execution_count": 147,
   "metadata": {},
   "outputs": [
    {
     "data": {
      "text/plain": [
       "[84, 9, 5, 2]"
      ]
     },
     "execution_count": 147,
     "metadata": {},
     "output_type": "execute_result"
    }
   ],
   "source": [
    "import random\n",
    "def redpack(total, nums):\n",
    "    every = [0]\n",
    "    for i in range(nums-1):\n",
    "        money = random.randint(1, total-sum(every)) if total-sum(every)>0 else 0\n",
    "        every.append(money)\n",
    "    return every[1:] + [total-sum(every)]\n",
    "\n",
    "redpack(100,4)"
   ]
  },
  {
   "cell_type": "markdown",
   "metadata": {},
   "source": [
    "# Notepad++ pycharm使用"
   ]
  },
  {
   "cell_type": "markdown",
   "metadata": {},
   "source": [
    "# 机器学习/深度学习与函数/模块封装*  "
   ]
  },
  {
   "cell_type": "markdown",
   "metadata": {},
   "source": [
    "我们编写函数，是为了实现一个功能。比如上面提到的判断一个年份是否为闰年。  \n",
    "在拿到这个函数的功能后，我们去实现。  \n",
    "我们理清这个功能，并且能够在逻辑上进行一段伪代码的编写，  \n",
    "然后开始编写代码。  \n",
    "\n",
    "\n",
    "这是传统的编程人员或者函数的实现。"
   ]
  },
  {
   "cell_type": "markdown",
   "metadata": {},
   "source": [
    "这段伪代码是有明确的逻辑实现的，或者能够使用一些其它数学方法等。  \n",
    "总之，编写函数类似于复现一些想法或者一些数学公式/功能。  \n",
    "\n",
    "也就是说，使用编程/函数处理问题，首先要在逻辑上有个清晰的框架，然后再使用代码实现。"
   ]
  },
  {
   "cell_type": "markdown",
   "metadata": {},
   "source": [
    "**或者叫问题的解是能够明确定义的**"
   ]
  },
  {
   "cell_type": "markdown",
   "metadata": {},
   "source": [
    "这是提升到一种高层次的抽象角度来讲  \n",
    "使用函数去解决问题的范式：  \n",
    "问题清晰可解，使用函数复现并封装。\n",
    "\n",
    "$$y = f(x) $$\n",
    "\n",
    "这个可解的过程，哪怕再复杂，也是人能够懂的。  \n",
    "\n",
    "即人为编写f, 然后输入x,输出y"
   ]
  },
  {
   "cell_type": "markdown",
   "metadata": {},
   "source": [
    "但 人工智能/机器学习/深度学习 是完全不同于上述问题的解答方式的。  \n",
    "人工智能是给定x,y 然后去学习f  \n",
    "\n",
    " \n",
    "![人工智能/机器学习/深度学习 ](https://ss3.bdstatic.com/70cFv8Sh_Q1YnxGkpoWK1HF6hhy/it/u=1954879261,500495804&fm=26&gp=0.jpg)"
   ]
  },
  {
   "cell_type": "markdown",
   "metadata": {},
   "source": [
    "比如我们生活中遇到的AI项目有：人脸识别，或者识别图片是猫是狗  \n",
    "让机器自己去学习这种解决问题的思路，  \n",
    "当然，传统的机器学习算法还是能够理解它们这种'如何解决问题'，但深度学习的可解释性就更差了。  "
   ]
  },
  {
   "cell_type": "markdown",
   "metadata": {},
   "source": [
    "---这个举例不算太好，先放弃---  \n",
    "所以，我们现在写函数是这样  \n",
    "\n",
    "1. 传统\n",
    "任务：人脸识别  \n",
    "输入：人脸  \n",
    "输出：姓名  \n",
    "\n",
    "``` python\n",
    "def face_recognition():\n",
    "   # 定义人脸的相似度(et 复杂数学方法: cos相似度)\n",
    "   # 遍历人脸库\n",
    "   # 找到相似度最大的人脸和它的信息\n",
    "   # 返回信息\n",
    "```\n",
    "应用\n",
    "\n",
    "\n",
    "\n",
    "2. 机器学习\n",
    "任务：人脸识别  \n",
    "输入：人脸  \n",
    "输出：姓名  \n",
    "\n",
    "``` python\n",
    "def face_recognition():\n",
    "   # automatly write by machine \n",
    "```\n",
    "应用"
   ]
  },
  {
   "cell_type": "markdown",
   "metadata": {},
   "source": [
    "传统的任务开发流程：  \n",
    "问题 -> 分析 -> 伪码实现(概念解决) -> 编写代码 -> 利用数据验证(BUG)  # 小数据即可 y 100% == f(x)\n",
    "\n",
    "机器学习：\n",
    "拥有数据x,y，需要得到 f\n",
    "利用x,y 进行学习f -> 拿一部分x,y验证看f效果(**评估过程**)"
   ]
  },
  {
   "cell_type": "code",
   "execution_count": 3,
   "metadata": {},
   "outputs": [
    {
     "data": {
      "image/png": "[encoded data removed]",
      "text/plain": [
       "<Figure size 432x288 with 1 Axes>"
      ]
     },
     "metadata": {
      "needs_background": "light"
     },
     "output_type": "display_data"
    }
   ],
   "source": [
    "# 此代码暂时不需要理解仅查看效果即可\n",
    "import math\n",
    "\n",
    "def sigmoid(x):\n",
    "    a = []\n",
    "    for item in x:\n",
    "        a.append(1/(1+math.exp(-item)))\n",
    "    return a\n",
    "\n",
    "import matplotlib.pyplot as plt\n",
    "import numpy as np\n",
    "%matplotlib inline\n",
    "\n",
    "x = np.arange(0., 10., 0.2)\n",
    "sig = sigmoid(x)\n",
    "plt.plot(x,sig)\n",
    "plt.show()"
   ]
  },
  {
   "cell_type": "code",
   "execution_count": 385,
   "metadata": {},
   "outputs": [
    {
     "data": {
      "image/png": "[encoded data removed]",
      "text/plain": [
       "<Figure size 432x288 with 1 Axes>"
      ]
     },
     "metadata": {
      "needs_background": "light"
     },
     "output_type": "display_data"
    },
    {
     "data": {
      "text/plain": [
       "(array([0. , 0.1, 0.2, 0.3, 0.4, 0.5, 0.6, 0.7, 0.8, 0.9, 1. , 1.1, 1.2,\n",
       "        1.3, 1.4]),\n",
       " array([0.5 , 0.52, 0.55, 0.57, 0.6 , 0.62, 0.65, 0.67, 0.69, 0.71, 0.73,\n",
       "        0.75, 0.77, 0.79, 0.8 ]))"
      ]
     },
     "execution_count": 385,
     "metadata": {},
     "output_type": "execute_result"
    }
   ],
   "source": [
    "# 此代码暂时不需要理解仅查看效果即可\n",
    "x = np.arange(0., 1.5, 0.1)\n",
    "sig = sigmoid(x)\n",
    "plt.plot(x,sig)\n",
    "plt.ylim([0.5,1])\n",
    "plt.show()\n",
    "x, np.round(sig,2)"
   ]
  },
  {
   "cell_type": "code",
   "execution_count": 387,
   "metadata": {},
   "outputs": [
    {
     "data": {
      "image/png": "[encoded data removed]",
      "text/plain": [
       "<Figure size 432x288 with 1 Axes>"
      ]
     },
     "metadata": {
      "needs_background": "light"
     },
     "output_type": "display_data"
    },
    {
     "data": {
      "text/plain": [
       "(array([5.5, 5.6, 5.7, 5.8, 5.9, 6. , 6.1, 6.2, 6.3, 6.4]),\n",
       " array([1., 1., 1., 1., 1., 1., 1., 1., 1., 1.]))"
      ]
     },
     "execution_count": 387,
     "metadata": {},
     "output_type": "execute_result"
    }
   ],
   "source": [
    "# 此代码暂时不需要理解仅查看效果即可\n",
    "x = np.arange(5.5, 6.5, 0.1)\n",
    "sig = sigmoid(x)\n",
    "plt.plot(x,sig)\n",
    "plt.ylim([0.5,1.2])\n",
    "plt.show()\n",
    "x, np.round(sig,2)"
   ]
  },
  {
   "cell_type": "markdown",
   "metadata": {},
   "source": [
    "所以我们需要对数据进行随机打乱"
   ]
  },
  {
   "cell_type": "markdown",
   "metadata": {},
   "source": [
    "**包安装**"
   ]
  },
  {
   "cell_type": "markdown",
   "metadata": {},
   "source": [
    "``` bash \n",
    "pip install <package>\n",
    "```"
   ]
  },
  {
   "cell_type": "markdown",
   "metadata": {},
   "source": [
    "# 作业"
   ]
  },
  {
   "cell_type": "markdown",
   "metadata": {},
   "source": [
    "1. 安装 `numpy`, `matplotlib`,`sklearn`包, 并测试是否安装完成  \n",
    "如果遇到错误，请阅读错误并尝试自己解决  \n",
    "执行以下代码不报错\n",
    "``` python\n",
    "import numpy as np\n",
    "import matplotlib \n",
    "import sklearn\n",
    "```"
   ]
  },
  {
   "cell_type": "markdown",
   "metadata": {},
   "source": [
    "2. 打乱数据集  \n",
    "同时打乱 x,y，保证数据和标签的对应关系\n",
    "``` python\n",
    "x = ['快递太慢了！','不好吃','特别难吃','要齁死我了','很划算','下次还来','味道很不错！','香']\n",
    "y = ['差评','差评','差评','差评','好评','好评','好评','好评']\n",
    "```"
   ]
  },
  {
   "cell_type": "code",
   "execution_count": 6,
   "metadata": {},
   "outputs": [
    {
     "name": "stdout",
     "output_type": "stream",
     "text": [
      "快递太慢了！ : 差评\n",
      "不好吃 : 差评\n",
      "特别难吃 : 差评\n",
      "要齁死我了 : 差评\n",
      "很划算 : 好评\n",
      "下次还来 : 好评\n",
      "味道很不错！ : 好评\n",
      "香 : 好评\n"
     ]
    }
   ],
   "source": [
    "# you may need import some package\n",
    "x = ['快递太慢了！','不好吃','特别难吃','要齁死我了','很划算','下次还来','味道很不错！','香']\n",
    "y = ['差评','差评','差评','差评','好评','好评','好评','好评']\n",
    "\n",
    "def shuffle(x,y):\n",
    "    z = zip(x,y)\n",
    "    \n",
    "    return x,y\n",
    "\n",
    "# print result for certify\n",
    "for i,j in zip(x,y):\n",
    "    print(i,':',j)"
   ]
  },
  {
   "cell_type": "markdown",
   "metadata": {},
   "source": [
    "3. 单词统计  \n",
    "使用函数，统计每个单词的出现次数，返回字典(查阅资料导入已完成此功能的包)\n",
    "``` python\n",
    "text = '2019 年 十月 一日 上午 ， 庆祝 中华人民共和国 成立 70 周年 阅兵式 在 首都北京 盛大举行 ， 59 个 阅兵 方阵 ， 580 台受 阅 装备 ， 1.5 万人 的 参阅 队伍 接受 了 全国 人民 的 检阅 。 阅兵 装备 方队 展示 的 武器装备 皆 为 国产 现役 主战 装备 ， 40% 为 首次 展示 。 其中 近些年来 广受 全球 关注 的 东风 41 洲际 弹道导弹 ， 巨浪 二潜射 弹道导弹 ， 东风 17 高超音速 武器 系统 终于 揭幕 亮剑 ， 以 \" 不怒 自威 \" 的 形象 向 世界 展示 中国 捍卫 和平 的 意志 与 力量 。 相较 于 其他 首度 公开 亮相 的 武器装备 ， 这 三款 武器 多年 来 传闻 不断 ， 备受 关注 ， 并 因 其 \" 大国 基石 \" 的 地位 而 被 公众 赋予 特殊 的 期待 ， 这 三款 武器装备 实力 究竟 如何 ， 又 各自 承担 着 怎样 的 历史 \" 使命 \" 呢 ？ 本报 特约 相关 领域 军事 专家 ， 为 大家 详细 解读 这 三款 彰显 国威 ， 震撼 世界 的 国 之 重器 。'\n",
    "```"
   ]
  },
  {
   "cell_type": "code",
   "execution_count": 5,
   "metadata": {},
   "outputs": [
    {
     "name": "stdout",
     "output_type": "stream",
     "text": [
      "Counter({'，': 15, '的': 11, '\"': 6, '。': 4, '装备': 3, '展示': 3, '武器装备': 3, '为': 3, '这': 3, '三款': 3, '阅兵': 2, '关注': 2, '东风': 2, '弹道导弹': 2, '武器': 2, '世界': 2, '2019': 1, '年': 1, '十月': 1, '一日': 1, '上午': 1, '庆祝': 1, '中华人民共和国': 1, '成立': 1, '70': 1, '周年': 1, '阅兵式': 1, '在': 1, '首都北京': 1, '盛大举行': 1, '59': 1, '个': 1, '方阵': 1, '580': 1, '台受': 1, '阅': 1, '1.5': 1, '万人': 1, '参阅': 1, '队伍': 1, '接受': 1, '了': 1, '全国': 1, '人民': 1, '检阅': 1, '方队': 1, '皆': 1, '国产': 1, '现役': 1, '主战': 1, '40%': 1, '首次': 1, '其中': 1, '近些年来': 1, '广受': 1, '全球': 1, '41': 1, '洲际': 1, '巨浪': 1, '二潜射': 1, '17': 1, '高超音速': 1, '系统': 1, '终于': 1, '揭幕': 1, '亮剑': 1, '以': 1, '不怒': 1, '自威': 1, '形象': 1, '向': 1, '中国': 1, '捍卫': 1, '和平': 1, '意志': 1, '与': 1, '力量': 1, '相较': 1, '于': 1, '其他': 1, '首度': 1, '公开': 1, '亮相': 1, '多年': 1, '来': 1, '传闻': 1, '不断': 1, '备受': 1, '并': 1, '因': 1, '其': 1, '大国': 1, '基石': 1, '地位': 1, '而': 1, '被': 1, '公众': 1, '赋予': 1, '特殊': 1, '期待': 1, '实力': 1, '究竟': 1, '如何': 1, '又': 1, '各自': 1, '承担': 1, '着': 1, '怎样': 1, '历史': 1, '使命': 1, '呢': 1, '？': 1, '本报': 1, '特约': 1, '相关': 1, '领域': 1, '军事': 1, '专家': 1, '大家': 1, '详细': 1, '解读': 1, '彰显': 1, '国威': 1, '震撼': 1, '国': 1, '之': 1, '重器': 1})\n"
     ]
    }
   ],
   "source": [
    "import collections\n",
    "\n",
    "def count_words(text):\n",
    "    return collections.Counter(text.split(' '))\n",
    "    \n",
    "    \n",
    "\n",
    "# test \n",
    "text = '2019 年 十月 一日 上午 ， 庆祝 中华人民共和国 成立 70 周年 阅兵式 在 首都北京 盛大举行 ， 59 个 阅兵 方阵 ， 580 台受 阅 装备 ， 1.5 万人 的 参阅 队伍 接受 了 全国 人民 的 检阅 。 阅兵 装备 方队 展示 的 武器装备 皆 为 国产 现役 主战 装备 ， 40% 为 首次 展示 。 其中 近些年来 广受 全球 关注 的 东风 41 洲际 弹道导弹 ， 巨浪 二潜射 弹道导弹 ， 东风 17 高超音速 武器 系统 终于 揭幕 亮剑 ， 以 \" 不怒 自威 \" 的 形象 向 世界 展示 中国 捍卫 和平 的 意志 与 力量 。 相较 于 其他 首度 公开 亮相 的 武器装备 ， 这 三款 武器 多年 来 传闻 不断 ， 备受 关注 ， 并 因 其 \" 大国 基石 \" 的 地位 而 被 公众 赋予 特殊 的 期待 ， 这 三款 武器装备 实力 究竟 如何 ， 又 各自 承担 着 怎样 的 历史 \" 使命 \" 呢 ？ 本报 特约 相关 领域 军事 专家 ， 为 大家 详细 解读 这 三款 彰显 国威 ， 震撼 世界 的 国 之 重器 。'\n",
    "print(count_words(text))"
   ]
  },
  {
   "cell_type": "code",
   "execution_count": null,
   "metadata": {},
   "outputs": [],
   "source": []
  }
 ],
 "metadata": {
  "kernelspec": {
   "display_name": "Python 3",
   "language": "python",
   "name": "python3"
  },
  "language_info": {
   "codemirror_mode": {
    "name": "ipython",
    "version": 3
   },
   "file_extension": ".py",
   "mimetype": "text/x-python",
   "name": "python",
   "nbconvert_exporter": "python",
   "pygments_lexer": "ipython3",
   "version": "3.7.3"
  }
 },
 "nbformat": 4,
 "nbformat_minor": 4
}
